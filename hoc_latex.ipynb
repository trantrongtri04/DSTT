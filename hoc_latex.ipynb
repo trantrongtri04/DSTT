{
 "cells": [
  {
   "cell_type": "markdown",
   "id": "facd0808",
   "metadata": {},
   "source": [
    "#### vẽ ma trận (tổng quát)\n",
    "$\\left[\\begin{matrix}\n",
    "1 & 2 & 3\\\\\n",
    "4 & 5 & 6\n",
    "\\end{matrix}\\right]\n",
    "$"
   ]
  },
  {
   "cell_type": "markdown",
   "id": "82ac3e27",
   "metadata": {},
   "source": [
    "#### vẽ ngoặc tròn\n",
    "$\\begin{pmatrix}\n",
    "1 & 2 & 5\\\\\n",
    "3 & 4 & 5\n",
    "\\end{pmatrix}\n",
    "$"
   ]
  },
  {
   "cell_type": "markdown",
   "id": "deee418d",
   "metadata": {},
   "source": [
    "#### vẽ ngoặc vuông\n",
    "$\\begin{bmatrix}\n",
    "1 & 7 & 9\\\\\n",
    "6 & 4 & 3\n",
    "\\end{bmatrix}\n",
    "$"
   ]
  },
  {
   "cell_type": "markdown",
   "id": "0622c778",
   "metadata": {},
   "source": [
    "#### vẽ ngoặc nhọn\n",
    "$\\begin{Bmatrix}\n",
    "1 & 7 & 9\\\\\n",
    "6 & 4 & 3\n",
    "\\end{Bmatrix}\n",
    "$"
   ]
  },
  {
   "cell_type": "code",
   "execution_count": null,
   "id": "3606faf7",
   "metadata": {},
   "outputs": [],
   "source": []
  },
  {
   "cell_type": "markdown",
   "id": "32704ee4",
   "metadata": {},
   "source": [
    "#### vẽ định thức\n",
    "$\\begin{vmatrix}\n",
    "1 & 7 & 9\\\\\n",
    "6 & 4 & 3\n",
    "\\end{vmatrix}\n",
    "$"
   ]
  },
  {
   "cell_type": "markdown",
   "id": "b6494154",
   "metadata": {},
   "source": [
    "#### vẽ norm\n",
    "$\\begin{Vmatrix}\n",
    "1 & 7 & 9\\\\\n",
    "6 & 4 & 3\n",
    "\\end{Vmatrix}_2\n",
    "$"
   ]
  },
  {
   "cell_type": "code",
   "execution_count": null,
   "id": "f69d0d41",
   "metadata": {},
   "outputs": [],
   "source": []
  },
  {
   "cell_type": "markdown",
   "id": "1b06ba27",
   "metadata": {},
   "source": [
    "$\\Vert A \\Vert_2$"
   ]
  },
  {
   "cell_type": "markdown",
   "id": "92e74612",
   "metadata": {},
   "source": [
    "#### vẽ ceil\n",
    "$\\left\\lceil\\begin{matrix}\n",
    "1 & 2 & 3\\\\\n",
    "a & b & c\n",
    "\\end{matrix}\\right\\rceil\n",
    "$"
   ]
  },
  {
   "cell_type": "code",
   "execution_count": null,
   "id": "b52274c7",
   "metadata": {},
   "outputs": [],
   "source": []
  },
  {
   "cell_type": "markdown",
   "id": "aed41d90",
   "metadata": {},
   "source": [
    "#### vẽ mũ\n",
    "$x^n + y^n = z^n$"
   ]
  },
  {
   "cell_type": "markdown",
   "id": "57e6e676",
   "metadata": {},
   "source": [
    "#### vẽ căn bậc 2\n",
    "$\\sqrt{x^2+1}$"
   ]
  },
  {
   "cell_type": "markdown",
   "id": "edba0a75",
   "metadata": {},
   "source": [
    "#### hợp, giao\n",
    "$A\\cup B \\cap C$"
   ]
  },
  {
   "cell_type": "markdown",
   "id": "aa2ed65c",
   "metadata": {},
   "source": [
    "#### tập con\n",
    "$A \\subset \\Omega \\\\\n",
    "\\Omega \\supset A \\\\\n",
    "\\subseteq \\\\\n",
    "\\supseteq\n",
    "$"
   ]
  },
  {
   "cell_type": "markdown",
   "id": "1f562825",
   "metadata": {},
   "source": [
    "#### tích phân\n",
    "$\\int\\limits^1_0{(ax^2+b)} dx$"
   ]
  },
  {
   "cell_type": "markdown",
   "id": "316936f1",
   "metadata": {},
   "source": [
    "#### tổng, nhân\n",
    "$$\\sum_{i=1}^{n}{a_i}\\\\\n",
    "\\prod_{i=1}^{n}{a_i}$$"
   ]
  },
  {
   "cell_type": "markdown",
   "id": "7ea384c5",
   "metadata": {},
   "source": [
    "#### viết chuẩn text\n",
    "$\\text{rank}A$"
   ]
  },
  {
   "cell_type": "markdown",
   "id": "a31f27b6",
   "metadata": {},
   "source": [
    "#### vẽ ngoặc nhọn\n",
    "$\\begin{cases} x+y=0\\\\y=1\\end{cases}$"
   ]
  },
  {
   "cell_type": "markdown",
   "id": "d73f83aa",
   "metadata": {},
   "source": [
    "$\\int\\limits_0^1 x^2 + y^2 \\ dx$"
   ]
  },
  {
   "cell_type": "markdown",
   "id": "6a6c209a",
   "metadata": {},
   "source": [
    "#### vô cực\n",
    "$\\infty$"
   ]
  },
  {
   "cell_type": "markdown",
   "id": "caaf9cd0",
   "metadata": {},
   "source": []
  },
  {
   "cell_type": "code",
   "execution_count": null,
   "id": "9253ff51",
   "metadata": {},
   "outputs": [],
   "source": []
  }
 ],
 "metadata": {
  "kernelspec": {
   "display_name": "Python 3 (ipykernel)",
   "language": "python",
   "name": "python3"
  },
  "language_info": {
   "codemirror_mode": {
    "name": "ipython",
    "version": 3
   },
   "file_extension": ".py",
   "mimetype": "text/x-python",
   "name": "python",
   "nbconvert_exporter": "python",
   "pygments_lexer": "ipython3",
   "version": "3.11.3"
  }
 },
 "nbformat": 4,
 "nbformat_minor": 5
}
